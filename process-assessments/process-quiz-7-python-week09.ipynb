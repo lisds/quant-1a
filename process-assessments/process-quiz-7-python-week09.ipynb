{
 "cells": [
  {
   "cell_type": "markdown",
   "metadata": {
    "id": "cswDg0dLEyil"
   },
   "source": [
    "# Assessment 7 (Python)\n",
    "\n",
    "This assessment covers chapters 1, 2, and 3 the\n",
    "Downey textbook [_Think Python: How to Think like a Computer Scientist_](https://allendowney.github.io/ThinkPython/index.html).\n",
    "\n",
    "There are 5 Tasks. It should take you about an hour.\n",
    "\n",
    "For each Task, there is half a point if:\n",
    "- The code runs without errors\n",
    "- The outputs are correct and as expected\n",
    "- The code is concise and [DRY](https://en.wikipedia.org/wiki/Don%27t_repeat_yourself)\n",
    "\n",
    "For each Task, there is half a point if:\n",
    "- The overall logic and control flow are correct and appropriate\n",
    "- The code is appropriately commented and readable\n",
    "\n",
    "For each Task, we have indicated in squared brackets the Chapters and sections that are relevant to solve that task (e.g. [2.6] indicates Chapter 2, section 6). You might notice that Chapter 5 does appear, which we will likely not cover in class; please look at that specific section for guidance.\n"
   ]
  },
  {
   "cell_type": "markdown",
   "metadata": {
    "id": "qopwyVMpKUHa"
   },
   "source": [
    "______\n",
    "<p align=\"right\">[2.6, 5.11]</p>\n",
    "\n",
    "### Task 1 - (1 point)\n",
    "\n",
    "Write a program that prompts the user to input their name and age before outputting:\n",
    "\n",
    "\"Your name is [*name*] and you are [*age*] years old.\""
   ]
  },
  {
   "cell_type": "code",
   "execution_count": null,
   "metadata": {
    "id": "SXsYTAWYtG-5"
   },
   "outputs": [],
   "source": [
    "# your code here\n",
    "name = ...\n",
    "...\n",
    "..."
   ]
  },
  {
   "cell_type": "markdown",
   "metadata": {
    "id": "gaCi5fvitGQl"
   },
   "source": [
    "<p align=\"right\">[1.1, 1.5, 2.6]</p>\n",
    "\n",
    "### Task 2 - (1 point)\n",
    "Write a program that prompts the user to input their age and then outputs an estimate of how long they have been alive in the following units:\n",
    "* Decades\n",
    "* Days\n",
    "* Hours\n",
    "* Minutes"
   ]
  },
  {
   "cell_type": "code",
   "execution_count": null,
   "metadata": {
    "id": "c5YK8OqKumls"
   },
   "outputs": [],
   "source": [
    "# user inputs and variable assignment\n",
    "...\n",
    "\n",
    "#print statements\n",
    "print(...)"
   ]
  },
  {
   "cell_type": "markdown",
   "metadata": {
    "id": "Wpo-bNQiiie9"
   },
   "source": [
    "<p align=\"right\">[1.1, 1.5, 5.6, 5.11]</p>\n",
    "\n",
    "### Task 3 - (1 point)\n",
    "\n",
    "Write a program which prompts the user to input the number of cats they have:\n",
    "* If they have **zero** cats it should print \"No cats? Wild!\".\n",
    "* Otherwise, if they have **fewer than four** cats it should print \"Cat lover\".\n",
    "* If they have **four or more** cats it should print \"Cat crazy!\".\n",
    "* **Otherwise** it should print \"Cat not computable\".\n",
    "\n",
    "**Hint:** *if the code runs into an error, you might want to check the data type of the input*"
   ]
  },
  {
   "cell_type": "code",
   "execution_count": null,
   "metadata": {
    "id": "d1CchNyaix4P"
   },
   "outputs": [],
   "source": [
    "# user inputs and variable assignment\n",
    "\n",
    "# Print statements\n",
    "if ...\n",
    "  ...\n",
    "elif ...\n",
    "  ...\n",
    "elif ...\n",
    "  ...\n",
    "else:\n",
    "  ..."
   ]
  },
  {
   "cell_type": "markdown",
   "metadata": {
    "id": "bo9OXl6-KVeq"
   },
   "source": [
    "____\n",
    "<p align=\"right\">[2.6, 3.4]</p>\n",
    "\n",
    "### Task 4 - (1 point)\n",
    "Write a function called `print_num`  that takes as input a positive integer and prints all integers from 0 up to **and including** the given positive integer input. Use a for loop in your solution."
   ]
  },
  {
   "cell_type": "code",
   "execution_count": null,
   "metadata": {
    "id": "DS-RNqIjKXis"
   },
   "outputs": [],
   "source": [
    "def print_nums(max_num):\n",
    "  # your code here"
   ]
  },
  {
   "cell_type": "code",
   "execution_count": null,
   "metadata": {
    "id": "dtj3I98xvnTq"
   },
   "outputs": [],
   "source": [
    "# run this code to test your solution\n",
    "print('Should output on new lines: 0, 1, 2, 3\\nActual output:')\n",
    "print_nums(3)\n",
    "print('\\nShould output on new lines: 0\\nActual output:')\n",
    "print_nums(0)"
   ]
  },
  {
   "cell_type": "markdown",
   "metadata": {
    "id": "UBgJdbB-hgFQ"
   },
   "source": [
    "<p align=\"right\">[2.1, 3.4]</p>\n",
    "\n",
    "### Task 5 - (1 point)\n",
    "Write a function called `print_cumulative` that:\n",
    "- takes as input a positive integer\n",
    "- loops through the numbers from 0 up to the given positive integer input (inclusive)\n",
    "- on each loop iteration prints on a new line the cumulative sum (i.e. the sum of all numbers from 0 up to the current number).\n",
    "\n",
    "**Hint:** *what does `var = var + 1` do?*"
   ]
  },
  {
   "cell_type": "code",
   "execution_count": null,
   "metadata": {
    "id": "WW7recotiSZS"
   },
   "outputs": [],
   "source": [
    "def print_cumulative(max_num):\n",
    "  # your code here\n",
    "  cumulative_sum = 0\n",
    "  for ..."
   ]
  },
  {
   "cell_type": "code",
   "execution_count": null,
   "metadata": {
    "id": "tC0Q_VV1d7mx"
   },
   "outputs": [],
   "source": [
    "# run this code to test your solution\n",
    "print('Should output on new lines: 0\\nActual output:')\n",
    "print_cumulative(0)\n",
    "print('\\nShould output on new lines: 0, 1, 3, 6, 10\\nActual output:')\n",
    "print_cumulative(4)"
   ]
  },
  {
   "cell_type": "markdown",
   "metadata": {
    "id": "KfiwCjXoKWxj"
   },
   "source": [
    "<p align=\"right\">[2.4, 3.2, 5.3, 5.6]</p>\n",
    "\n",
    "## Bonus Task! (You don't have to do this one!)\n",
    "Write a function `calculator` which simulates a basic calculator, capable of performing four operations: addition, subtraction, multiplication, and division.\n",
    "\n",
    "The function should have **three** parameters: `operator`, `num1` and `num2`.\n",
    "\n",
    "_____________\n",
    "#### Input\n",
    "\n",
    "*   **operator**: A string representing one of these four operations: `['+', '-', '*', '/']`\n",
    "*   **num1**: The first number in the operation\n",
    "*   **num2**: The second number in the operation\n",
    "\n",
    "#### Output\n",
    "\n",
    "\n",
    "*   The result of the calculation if the operator is supported\n",
    "*   Return \"Invalid operator\" if the operator is unsupported\n",
    "\n",
    "#### Examples\n",
    "\n",
    "* calculator('+', 2, 5.5)&nbsp; &nbsp; &nbsp; &nbsp; || &nbsp; &nbsp; &nbsp; &nbsp;returns 7.5\n",
    "\n",
    "* calculator('*', 2, 3)&nbsp; &nbsp; &nbsp; &nbsp; || &nbsp; &nbsp; &nbsp; &nbsp;returns 6\n",
    "\n",
    "* calculator('$', 1, 1) &emsp; &nbsp; &nbsp; &nbsp; &nbsp; || &nbsp; &nbsp; &nbsp; &nbsp;returns \"Invalid operator\"\n"
   ]
  },
  {
   "cell_type": "code",
   "execution_count": null,
   "metadata": {
    "colab": {
     "base_uri": "https://localhost:8080/",
     "height": 106
    },
    "collapsed": true,
    "id": "oMfvcXECxvzL",
    "jupyter": {
     "outputs_hidden": true
    },
    "outputId": "32a9b309-0c7a-44b7-d537-95f1b5e225c5"
   },
   "outputs": [
    {
     "ename": "SyntaxError",
     "evalue": "expected ':' (<ipython-input-35-06e56e0f5179>, line 7)",
     "output_type": "error",
     "traceback": [
      "\u001b[0;36m  File \u001b[0;32m\"<ipython-input-35-06e56e0f5179>\"\u001b[0;36m, line \u001b[0;32m7\u001b[0m\n\u001b[0;31m    if ...\u001b[0m\n\u001b[0m          ^\u001b[0m\n\u001b[0;31mSyntaxError\u001b[0m\u001b[0;31m:\u001b[0m expected ':'\n"
     ]
    }
   ],
   "source": [
    "# your code here\n",
    "def calculator(operator, num1, num2):\n",
    "  # what should the function do if the operator is '+'\n",
    "  if ...\n",
    "    result = ...\n",
    "    return result\n",
    "\n",
    "  # what should the function do if the operator is '-'\n",
    "  elif ...\n",
    "    result = ...\n",
    "    return result\n",
    "\n",
    "\n",
    "  # what should the function do if the operator is '*'\n",
    "  elif ...\n",
    "    result = ...\n",
    "    return result\n",
    "\n",
    "\n",
    "  # what should the function do if the operator is '/'\n",
    "  elif ...\n",
    "    result = ...\n",
    "    return result\n",
    "\n",
    "  # what should the function do if the operator is invalid\n",
    "  else:\n",
    "    print(\"Invalid operator\")"
   ]
  },
  {
   "cell_type": "code",
   "execution_count": null,
   "metadata": {
    "id": "uu0ohkcDiBlS"
   },
   "outputs": [],
   "source": [
    "# run this code to test your solution\n",
    "print(\"calculator('+', 4, 3) should return: 7\")\n",
    "print(\"Actual output:\", calculator('+', 4, 3))\n",
    "\n",
    "print(\"\\ncalculator('-', 10, 8) should return: 2\")\n",
    "print(\"Actual output:\", calculator('-', 10, 8))\n",
    "\n",
    "print(\"\\ncalculator('/', 6, -2) should return: -3.0\")\n",
    "print(\"Actual output:\", calculator('/', 6, -2))\n",
    "\n",
    "print(\"\\ncalculator('*', 7, 3) should return: 21\")\n",
    "print(\"Actual output:\", calculator('*', 7, 3))\n"
   ]
  }
 ],
 "metadata": {
  "colab": {
   "provenance": []
  },
  "kernelspec": {
   "display_name": "Python 3 (ipykernel)",
   "language": "python",
   "name": "python3"
  },
  "language_info": {
   "codemirror_mode": {
    "name": "ipython",
    "version": 3
   },
   "file_extension": ".py",
   "mimetype": "text/x-python",
   "name": "python",
   "nbconvert_exporter": "python",
   "pygments_lexer": "ipython3",
   "version": "3.11.6"
  }
 },
 "nbformat": 4,
 "nbformat_minor": 4
}
