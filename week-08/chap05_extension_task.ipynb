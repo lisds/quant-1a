{
 "cells": [
  {
   "cell_type": "markdown",
   "metadata": {
    "id": "KfiwCjXoKWxj"
   },
   "source": [
    "<p align=\"right\">[2.4, 3.2, 5.3, 5.6]</p>\n",
    "\n",
    "## Extension exercise \n",
    "Write a function `calculator` which simulates a basic calculator, capable of performing four operations: addition, subtraction, multiplication, and division.\n",
    "\n",
    "The function should have **three** parameters: `operator`, `num1` and `num2`.\n",
    "\n",
    "_____________\n",
    "#### Input\n",
    "\n",
    "*   **operator**: A string representing one of these four operations: `['+', '-', '*', '/']`\n",
    "*   **num1**: The first number in the operation\n",
    "*   **num2**: The second number in the operation\n",
    "\n",
    "#### Output\n",
    "\n",
    "\n",
    "*   The result of the calculation if the operator is supported\n",
    "*   Return \"Invalid operator\" if the operator is unsupported\n",
    "\n",
    "#### Examples\n",
    "\n",
    "* calculator('+', 2, 5.5)&nbsp; &nbsp; &nbsp; &nbsp; || &nbsp; &nbsp; &nbsp; &nbsp;returns 7.5\n",
    "\n",
    "* calculator('*', 2, 3)&nbsp; &nbsp; &nbsp; &nbsp; || &nbsp; &nbsp; &nbsp; &nbsp;returns 6\n",
    "\n",
    "* calculator('$', 1, 1) &emsp; &nbsp; &nbsp; &nbsp; &nbsp; || &nbsp; &nbsp; &nbsp; &nbsp;returns \"Invalid operator\"\n"
   ]
  },
  {
   "cell_type": "code",
   "execution_count": null,
   "metadata": {
    "colab": {
     "base_uri": "https://localhost:8080/",
     "height": 106
    },
    "id": "oMfvcXECxvzL",
    "outputId": "32a9b309-0c7a-44b7-d537-95f1b5e225c5"
   },
   "outputs": [],
   "source": [
    "# your code here\n",
    "def calculator(operator, num1, num2):\n",
    "  # what should the function do if the operator is '+'\n",
    "  if ...\n",
    "    result = ...\n",
    "    return result\n",
    "\n",
    "  # what should the function do if the operator is '-'\n",
    "  elif ...\n",
    "    result = ...\n",
    "    return result\n",
    "\n",
    "\n",
    "  # what should the function do if the operator is '*'\n",
    "  elif ...\n",
    "    result = ...\n",
    "    return result\n",
    "\n",
    "\n",
    "  # what should the function do if the operator is '/'\n",
    "  elif ...\n",
    "    result = ...\n",
    "    return result\n",
    "\n",
    "  # what should the function do if the operator is invalid\n",
    "  else:\n",
    "    print(\"Invalid operator\")"
   ]
  },
  {
   "cell_type": "code",
   "execution_count": null,
   "metadata": {
    "id": "uu0ohkcDiBlS"
   },
   "outputs": [],
   "source": [
    "# run this code to test your solution\n",
    "print(\"calculator('+', 4, 3) should return: 7\")\n",
    "print(\"Actual output:\", calculator('+', 4, 3))\n",
    "\n",
    "print(\"\\ncalculator('-', 10, 8) should return: 2\")\n",
    "print(\"Actual output:\", calculator('-', 10, 8))\n",
    "\n",
    "print(\"\\ncalculator('/', 6, -2) should return: -3.0\")\n",
    "print(\"Actual output:\", calculator('/', 6, -2))\n",
    "\n",
    "print(\"\\ncalculator('*', 7, 3) should return: 21\")\n",
    "print(\"Actual output:\", calculator('*', 7, 3))\n"
   ]
  }
 ],
 "metadata": {
  "colab": {
   "provenance": []
  },
  "kernelspec": {
   "display_name": "Python 3 (ipykernel)",
   "language": "python",
   "name": "python3"
  },
  "language_info": {
   "codemirror_mode": {
    "name": "ipython",
    "version": 3
   },
   "file_extension": ".py",
   "mimetype": "text/x-python",
   "name": "python",
   "nbconvert_exporter": "python",
   "pygments_lexer": "ipython3",
   "version": "3.11.6"
  }
 },
 "nbformat": 4,
 "nbformat_minor": 4
}
