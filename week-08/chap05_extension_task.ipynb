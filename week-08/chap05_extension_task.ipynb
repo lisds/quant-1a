{
  "nbformat": 4,
  "nbformat_minor": 0,
  "metadata": {
    "colab": {
      "provenance": []
    },
    "kernelspec": {
      "name": "python3",
      "display_name": "Python 3"
    },
    "language_info": {
      "name": "python"
    }
  },
  "cells": [
    {
      "cell_type": "markdown",
      "source": [
        "# Assessment 1\n",
        "\n",
        "This assessment covers chapters 1, 2, 3 and 5 of the\n",
        "Downey textbook [_Think Python: How to Think like a Computer Scientist_](https://allendowney.github.io/ThinkPython/index.html).\n",
        "\n",
        "\n",
        "The assessment is worth 100 points and counts 33% towards the student's total mark for this module. It should take you about 1 hour to complete this assessment.\n",
        "\n",
        "Each Task is worth 11 points with the last one being worth 12.\n",
        "\n",
        "For each Task, there are 8 points available if:\n",
        "- The code runs without errors\n",
        "- The outputs are correct and as expected\n",
        "- The code is concise and [DRY](https://en.wikipedia.org/wiki/Don%27t_repeat_yourself)\n",
        "\n",
        "For each Task, there are 3 points if:\n",
        "- The overall logic and control flow are correct and appropriate\n",
        "- The code is appropriately commented and readable\n",
        "\n",
        "For each Task, we have indicated in squared brackets the Chapters and sections that are relevant to solve that task (e.g. [2.6] indicates Chapter 2, section 6).\n"
      ],
      "metadata": {
        "id": "cswDg0dLEyil"
      }
    },
    {
      "cell_type": "markdown",
      "source": [
        "## Exercise 1\n",
        "______\n",
        "<p align=\"right\">[2.6, 5.11]</p>\n",
        "\n",
        "### Task 1 - (11 points)\n",
        "\n",
        "Write a program that prompts the user to input their name and age before outputting:\n",
        "\n",
        "\"Your name is [*name*] and you are [*age*] years old.\""
      ],
      "metadata": {
        "id": "qopwyVMpKUHa"
      }
    },
    {
      "cell_type": "code",
      "source": [
        "# your code here\n",
        "name = ...\n",
        "...\n",
        "..."
      ],
      "metadata": {
        "id": "SXsYTAWYtG-5"
      },
      "execution_count": null,
      "outputs": []
    },
    {
      "cell_type": "markdown",
      "source": [
        "<p align=\"right\">[1.1, 1.5, 2.6]</p>\n",
        "\n",
        "### Task 2 - (11 points)\n",
        "Write a program that prompts the user to input their age and then outputs an estimate of how long they have been alive in the following units:\n",
        "* Decades\n",
        "* Days\n",
        "* Hours\n",
        "* Minutes"
      ],
      "metadata": {
        "id": "gaCi5fvitGQl"
      }
    },
    {
      "cell_type": "code",
      "source": [
        "# user inputs and variable assignment\n",
        "...\n",
        "\n",
        "#print statements\n",
        "print(...)"
      ],
      "metadata": {
        "id": "c5YK8OqKumls"
      },
      "execution_count": null,
      "outputs": []
    },
    {
      "cell_type": "markdown",
      "source": [
        "<p align=\"right\">[1.1, 1.5, 5.6, 5.11]</p>\n",
        "\n",
        "### Task 3 - (11 points)\n",
        "\n",
        "Write a program which prompts the user to input the number of cats they have:\n",
        "* If they have **zero** cats it should print \"No cats? Wild!\".\n",
        "* Otherwise, if they have **fewer than four** cats it should print \"Cat lover\".\n",
        "* If they have **four or more** cats it should print \"Cat crazy!\".\n",
        "* **Otherwise** it should print \"Cat not computable\".\n",
        "\n",
        "**Hint:** *if the code runs into an error, you might want to check the data type of the input*"
      ],
      "metadata": {
        "id": "Wpo-bNQiiie9"
      }
    },
    {
      "cell_type": "code",
      "source": [
        "# user inputs and variable assignment\n",
        "\n",
        "# Print statements\n",
        "if ...\n",
        "  ...\n",
        "elif ...\n",
        "  ...\n",
        "elif ...\n",
        "  ...\n",
        "else:\n",
        "  ..."
      ],
      "metadata": {
        "id": "d1CchNyaix4P"
      },
      "execution_count": null,
      "outputs": []
    },
    {
      "cell_type": "markdown",
      "source": [
        "## Exercise 2\n",
        "______\n",
        "<p align=\"right\">[5.1]</p>\n",
        "\n",
        "### Task 1 - (11 points)\n",
        "Write a function called `is_even` that takes an integer as an argument and returns a True if the integer is **even** and False if the integer is **odd**.\n",
        "\n",
        "As we have not covered Boolean return values in class (they will appear in Chapter 6.5), we have already created return values for you.  \n",
        "\n",
        "**Hint:** *the function should return `True` or `False`.*"
      ],
      "metadata": {
        "id": "R8vVCw552Gk_"
      }
    },
    {
      "cell_type": "code",
      "source": [
        "# your code here\n",
        "def ...\n",
        "  # if the integer is even\n",
        "  if ...\n",
        "    return True\n",
        "\n",
        "  # if the integer is odd\n",
        "  else:\n",
        "    return False"
      ],
      "metadata": {
        "id": "Xxh1Ad6z4o6F"
      },
      "execution_count": null,
      "outputs": []
    },
    {
      "cell_type": "code",
      "source": [
        "# run this code to check your solution\n",
        "assert is_even(2)\n",
        "assert is_even(4)\n",
        "assert is_even(10)\n",
        "assert not is_even(3)\n",
        "assert not is_even(15)\n",
        "assert not is_even(279)"
      ],
      "metadata": {
        "id": "QgfZT1lpp3e_"
      },
      "execution_count": null,
      "outputs": []
    },
    {
      "cell_type": "markdown",
      "source": [
        "<p align=\"right\">[5.1]</p>\n",
        "\n",
        "### Task 2 - (11 points)\n",
        "Write a function called `is_divisible` with two parameters: `num` and `divisor`. The function should take two integers as arguments and return a Boolean value indicating whether `num` **is divisible by** `divisor`.\n",
        "\n",
        "Remember, a number is evenly divisible by another number if it can be divided equally by that number; that is, if the remainder of the division is exactly zero. For example, 6 is divisible by 3 because 6/3 has no remainder. 6 is not divisible by 4, because 6/4 has a remainder of 2."
      ],
      "metadata": {
        "id": "KJVw2BJj4qPE"
      }
    },
    {
      "cell_type": "code",
      "source": [
        "# your code here\n",
        "def ...\n",
        "  # if num is divisible by divisor\n",
        "  if ...\n",
        "    return True\n",
        "\n",
        "  # if num is not divisible by divisor\n",
        "  else:\n",
        "    return False"
      ],
      "metadata": {
        "id": "dDmFuH4f7fhe"
      },
      "execution_count": null,
      "outputs": []
    },
    {
      "cell_type": "code",
      "source": [
        "# run this code to check your solution\n",
        "assert is_divisible(6,3)\n",
        "assert is_divisible(15,5)\n",
        "assert not is_divisible(6,5)\n",
        "assert not is_divisible(15,10)"
      ],
      "metadata": {
        "id": "79q5BmWyrvWS"
      },
      "execution_count": null,
      "outputs": []
    },
    {
      "cell_type": "markdown",
      "source": [
        "<p align=\"right\">[5.1, 5.4, 5.5]</p>\n",
        "\n",
        "### Task 3 - (11 points)\n",
        "Write a function `if_is_div_2345` with the parameter `num`.The function should take an integer as an argument and return a Boolean value indicating whether the integer is **divisible** by **2, 3, 4 or 5**. For this task use **if statements**.\n"
      ],
      "metadata": {
        "id": "jjiezS3jEM2u"
      }
    },
    {
      "cell_type": "code",
      "source": [
        "def if_is_div_2345(num):\n",
        "  if ...\n",
        "    return True\n",
        "  if ...\n",
        "    return True\n",
        "  if ...\n",
        "    return True\n",
        "  if ...\n",
        "    return True\n",
        "  return False"
      ],
      "metadata": {
        "id": "c1AAoYCDEzOT"
      },
      "execution_count": null,
      "outputs": []
    },
    {
      "cell_type": "code",
      "source": [
        "assert if_is_div_2345(2)\n",
        "assert if_is_div_2345(3)\n",
        "assert if_is_div_2345(4)\n",
        "assert if_is_div_2345(64)\n",
        "assert if_is_div_2345(-8)\n",
        "assert not if_is_div_2345(7)\n",
        "assert not if_is_div_2345(-67)"
      ],
      "metadata": {
        "id": "W4kdIxd-IaxF"
      },
      "execution_count": null,
      "outputs": []
    },
    {
      "cell_type": "markdown",
      "source": [
        "## Exercise 3\n",
        "____\n",
        "<p align=\"right\">[2.6, 3.4]</p>\n",
        "\n",
        "### Task 1 - (11 points)\n",
        "Write a function called `print_num`  that takes as input a positive integer and prints all integers from 0 up to **and including** the given positive integer input. Use a for loop in your solution."
      ],
      "metadata": {
        "id": "bo9OXl6-KVeq"
      }
    },
    {
      "cell_type": "code",
      "source": [
        "def print_nums(max_num):\n",
        "  # your code here"
      ],
      "metadata": {
        "id": "DS-RNqIjKXis"
      },
      "execution_count": null,
      "outputs": []
    },
    {
      "cell_type": "code",
      "source": [
        "# run this code to test your solution\n",
        "print('Should output on new lines: 0, 1, 2, 3\\nActual output:')\n",
        "print_nums(3)\n",
        "print('\\nShould output on new lines: 0\\nActual output:')\n",
        "print_nums(0)"
      ],
      "metadata": {
        "id": "dtj3I98xvnTq"
      },
      "execution_count": null,
      "outputs": []
    },
    {
      "cell_type": "markdown",
      "source": [
        "<p align=\"right\">[2.1, 3.4]</p>\n",
        "\n",
        "### Task 2 - (11 points)\n",
        "Write a function called `print_cumulative` that:\n",
        "- takes as input a positive integer\n",
        "- loops through the numbers from 0 up to the given positive integer input (inclusive)\n",
        "- on each loop iteration prints on a new line the cumulative sum (i.e. the sum of all numbers from 0 up to the current number).\n",
        "\n",
        "**Hint:** *what does `var = var + 1` do?*"
      ],
      "metadata": {
        "id": "UBgJdbB-hgFQ"
      }
    },
    {
      "cell_type": "code",
      "source": [
        "def print_cumulative(max_num):\n",
        "  # your code here\n",
        "  cumulative_sum = 0\n",
        "  for ..."
      ],
      "metadata": {
        "id": "WW7recotiSZS"
      },
      "execution_count": null,
      "outputs": []
    },
    {
      "cell_type": "code",
      "source": [
        "# run this code to test your solution\n",
        "print('Should output on new lines: 0\\nActual output:')\n",
        "print_cumulative(0)\n",
        "print('\\nShould output on new lines: 0, 1, 3, 6, 10\\nActual output:')\n",
        "print_cumulative(4)"
      ],
      "metadata": {
        "id": "tC0Q_VV1d7mx"
      },
      "execution_count": null,
      "outputs": []
    },
    {
      "cell_type": "markdown",
      "source": [
        "<p align=\"right\">[2.4, 3.2, 5.3, 5.6]</p>\n",
        "\n",
        "## Exercise 4 - (12 points)\n",
        "Write a function `calculator` which simulates a basic calculator, capable of performing four operations: addition, subtraction, multiplication, and division.\n",
        "\n",
        "The function should have **three** parameters: `operator`, `num1` and `num2`.\n",
        "\n",
        "_____________\n",
        "#### Input\n",
        "\n",
        "*   **operator**: A string representing one of these four operations: `['+', '-', '*', '/']`\n",
        "*   **num1**: The first number in the operation\n",
        "*   **num2**: The second number in the operation\n",
        "\n",
        "#### Output\n",
        "\n",
        "\n",
        "*   The result of the calculation if the operator is supported\n",
        "*   Return \"Invalid operator\" if the operator is unsupported\n",
        "\n",
        "#### Examples\n",
        "\n",
        "* calculator('+', 2, 5.5)&nbsp; &nbsp; &nbsp; &nbsp; || &nbsp; &nbsp; &nbsp; &nbsp;returns 7.5\n",
        "\n",
        "* calculator('*', 2, 3)&nbsp; &nbsp; &nbsp; &nbsp; || &nbsp; &nbsp; &nbsp; &nbsp;returns 6\n",
        "\n",
        "* calculator('$', 1, 1) &emsp; &nbsp; &nbsp; &nbsp; &nbsp; || &nbsp; &nbsp; &nbsp; &nbsp;returns \"Invalid operator\"\n"
      ],
      "metadata": {
        "id": "KfiwCjXoKWxj"
      }
    },
    {
      "cell_type": "code",
      "source": [
        "# your code here\n",
        "def calculator(operator, num1, num2):\n",
        "  # what should the function do if the operator is '+'\n",
        "  if ...\n",
        "    result = ...\n",
        "    return result\n",
        "\n",
        "  # what should the function do if the operator is '-'\n",
        "  elif ...\n",
        "    result = ...\n",
        "    return result\n",
        "\n",
        "\n",
        "  # what should the function do if the operator is '*'\n",
        "  elif ...\n",
        "    result = ...\n",
        "    return result\n",
        "\n",
        "\n",
        "  # what should the function do if the operator is '/'\n",
        "  elif ...\n",
        "    result = ...\n",
        "    return result\n",
        "\n",
        "  # what should the function do if the operator is invalid\n",
        "  else:\n",
        "    print(\"Invalid operator\")"
      ],
      "metadata": {
        "id": "oMfvcXECxvzL",
        "colab": {
          "base_uri": "https://localhost:8080/",
          "height": 106
        },
        "outputId": "32a9b309-0c7a-44b7-d537-95f1b5e225c5",
        "collapsed": true
      },
      "execution_count": null,
      "outputs": [
        {
          "output_type": "error",
          "ename": "SyntaxError",
          "evalue": "expected ':' (<ipython-input-35-06e56e0f5179>, line 7)",
          "traceback": [
            "\u001b[0;36m  File \u001b[0;32m\"<ipython-input-35-06e56e0f5179>\"\u001b[0;36m, line \u001b[0;32m7\u001b[0m\n\u001b[0;31m    if ...\u001b[0m\n\u001b[0m          ^\u001b[0m\n\u001b[0;31mSyntaxError\u001b[0m\u001b[0;31m:\u001b[0m expected ':'\n"
          ]
        }
      ]
    },
    {
      "cell_type": "code",
      "source": [
        "# run this code to test your solution\n",
        "print(\"calculator('+', 4, 3) should return: 7\")\n",
        "print(\"Actual output:\", calculator('+', 4, 3))\n",
        "\n",
        "print(\"\\ncalculator('-', 10, 8) should return: 2\")\n",
        "print(\"Actual output:\", calculator('-', 10, 8))\n",
        "\n",
        "print(\"\\ncalculator('/', 6, -2) should return: -3.0\")\n",
        "print(\"Actual output:\", calculator('/', 6, -2))\n",
        "\n",
        "print(\"\\ncalculator('*', 7, 3) should return: 21\")\n",
        "print(\"Actual output:\", calculator('*', 7, 3))\n"
      ],
      "metadata": {
        "id": "uu0ohkcDiBlS"
      },
      "execution_count": null,
      "outputs": []
    }
  ]
}