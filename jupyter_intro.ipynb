{
 "cells": [
  {
   "cell_type": "markdown",
   "metadata": {
    "id": "WzCwnbY17x0O",
    "tags": []
   },
   "source": [
    "# *Think Python* on Jupyter\n",
    "\n",
    "This is an introduction to Jupyter notebooks for people reading the third edition of [*Think Python*](https://greenteapress.com/wp/think-python-3rd-edition) by Allen B. Downey.\n",
    "\n",
    "A Jupyter notebook is a document that contains text, code, and results from running the code.\n",
    "You can read a notebook like a book, but you can also run the code, modify it, and develop new programs.\n",
    "\n",
    "Jupyter notebooks run in a web browser, so you can run them without installing any new software.\n",
    "But they have to connect to a Jupyter server.\n",
    "\n",
    "At LIS, we have set up a server, so that you can run these notebooks \"on the cloud\". Note there are other services like [Colab](https://colab.research.google.com/), which is operated by Google."
   ]
  },
  {
   "cell_type": "markdown",
   "metadata": {
    "id": "jvPLRVuY2n1C",
    "tags": []
   },
   "source": [
    "## What is a notebook?\n",
    "\n",
    "A Jupyter notebook is made up of cells, where each cell contains either text or code.\n",
    "This cell contains text.\n",
    "\n",
    "The following cell contains code."
   ]
  },
  {
   "cell_type": "code",
   "execution_count": null,
   "metadata": {
    "id": "I4zBtw4_2n1D",
    "outputId": "a3167d8c-006c-45b9-bb94-4cd3cab4f624"
   },
   "outputs": [
    {
     "name": "stdout",
     "output_type": "stream",
     "text": [
      "Hello\n"
     ]
    }
   ],
   "source": [
    "print('Hello')"
   ]
  },
  {
   "cell_type": "markdown",
   "metadata": {
    "id": "-IsB0qLf2n1G",
    "tags": []
   },
   "source": [
    "Click on the previous cell to select it.\n",
    "You should see a button on the left with a triangle inside a circle, which is the icon for \"Play\".\n",
    "If you press this button, Jupyter runs the code in the cell and displays the result.\n",
    "\n",
    "When you run code in a notebook for the first time, it might take a few seconds to start.\n",
    "And if it's a notebook you didn't write, you might get a warning message.\n",
    "If you are running a notebook from a source you trust, which I hope includes me, you can press \"Run Anyway\"."
   ]
  },
  {
   "cell_type": "markdown",
   "metadata": {
    "id": "m_Ga9KJB2n1G",
    "tags": []
   },
   "source": [
    "Instead of clicking the \"Play\" button, you can also run the code in a cell by holding down `Shift` and pressing `Enter`.\n",
    "\n",
    "If you are running this notebook on Colab, you should see a button at the top  that says \"+\".  This adds either a code cell or a text cell. Toggle between code or text using the dropdown button at the top, selecting Code or Markdown, respectively.\n",
    "If you want to try them out, select this cell by clicking on it, then press the \"+\" button.\n",
    "A new (code) cell should appear below this one."
   ]
  },
  {
   "cell_type": "markdown",
   "metadata": {
    "id": "iGiLyf3y2n1G",
    "tags": []
   },
   "source": [
    "Add some text to the cell.\n",
    "You can use the buttons to format it, or you can mark up the text using [Markdown](https://www.markdownguide.org/basic-syntax/).\n",
    "When you are done, hold down `Shift` and press `Enter`, which will format the text you just typed and then move to the next cell."
   ]
  },
  {
   "cell_type": "markdown",
   "metadata": {
    "id": "pPDh01Ta2n1H"
   },
   "source": [
    "At any time Jupyter is in one of two modes:\n",
    "\n",
    "* In **command mode**, you can perform operations that affect cells, like adding and removing entire cells.\n",
    "\n",
    "* In **edit mode**, you can edit the contents of a cell.\n",
    "\n",
    "With text cells, it is obvious which mode you are in.\n",
    "In edit mode, the cell is split vertically, with the text you are editing on the left and the formatted text on the right.\n",
    "And you'll see text editing tools across the top.\n",
    "In command mode, you see only the formatted text.\n",
    "\n",
    "With code cells, the difference is more subtle, but if there's a cursor in the cell, you are in edit mode.\n",
    "\n",
    "To go from edit mode to command mode, press `ESC`.\n",
    "To go from command mode to edit mode, press `Enter`."
   ]
  },
  {
   "cell_type": "markdown",
   "metadata": {
    "id": "BxBoZtWp2n1I"
   },
   "source": [
    "When you are done working on a notebook, you can close the window. The serve automagically saves any change you made, and will save it for a while (likely to the end of the course). So you can revisit the notebook with your changes.\n",
    "If you make any changes you want to keep, open the File menu in the upper left.\n",
    "You'll see several ways you can save the notebook.\n",
    "\n",
    "* If you have a GitHub account, you can save it on GitHub.\n",
    "\n",
    "* Or if you want to save the notebook on your computer, select \"Download\" and then \"Download .ipynb\" The suffix \".ipynb\" indicates that it is a notebook file, as opposed to \".py\", which indicates a file that contains Python code only."
   ]
  },
  {
   "cell_type": "markdown",
   "metadata": {
    "id": "zo7qP8Ls2n1J"
   },
   "source": [
    "## Code for *Think Python*\n",
    "\n",
    "At the beginning of each notebook, you'll see a cell with code like this:"
   ]
  },
  {
   "cell_type": "code",
   "execution_count": null,
   "metadata": {
    "id": "KmkLrqdS2n1K"
   },
   "outputs": [],
   "source": [
    "from os.path import basename, exists\n",
    "\n",
    "def download(url):\n",
    "    filename = basename(url)\n",
    "    if not exists(filename):\n",
    "        from urllib.request import urlretrieve\n",
    "\n",
    "        local, _ = urlretrieve(url, filename)\n",
    "        print(\"Downloaded \" + str(local))\n",
    "    return filename\n",
    "\n",
    "download('https://raw.githubusercontent.com/AllenDowney/ThinkPython/v3/thinkpython.py')\n",
    "\n",
    "import thinkpython"
   ]
  },
  {
   "cell_type": "markdown",
   "metadata": {
    "id": "pRGz_-5n2n1L"
   },
   "source": [
    "You don't need to know how this code works, but when you get to the end of the book, most of it will make sense.\n",
    "As you might guess, it downloads a file -- specifically, it downloads `thinkpython.py`, which contains Python code provided specifically for this book.\n",
    "The last line \"imports\" this code, which means we can use the code in the notebook.\n",
    "\n",
    "In other chapters, you will see code that downloads `diagram.py`, which is used to generated the diagrams in the book, and `jupyturtle.py`, which is used in several chapters to create turtle graphics.\n",
    "\n",
    "In some places you will see a cell like this that begins with `%%expect`."
   ]
  },
  {
   "cell_type": "code",
   "execution_count": null,
   "metadata": {
    "id": "OS6XwC852n1L",
    "outputId": "649645fe-d190-446f-c415-505a19a737b5"
   },
   "outputs": [
    {
     "ename": "SyntaxError",
     "evalue": "invalid syntax (3827346253.py, line 1)",
     "output_type": "error",
     "traceback": [
      "\u001b[0;36m  Cell \u001b[0;32mIn[3], line 1\u001b[0;36m\u001b[0m\n\u001b[0;31m    abs 42\u001b[0m\n\u001b[0m        ^\u001b[0m\n\u001b[0;31mSyntaxError\u001b[0m\u001b[0;31m:\u001b[0m invalid syntax\n"
     ]
    }
   ],
   "source": [
    "%%expect SyntaxError\n",
    "\n",
    "abs 42"
   ]
  },
  {
   "cell_type": "markdown",
   "metadata": {
    "id": "YYTOQvvp2n1M"
   },
   "source": [
    "`%%expect` is not part of Python -- it is a Jupyter \"magic command\" that indicates that we expect the cell to product an error.\n",
    "When you see this command, it means that the error is deliberate, usually intended to warn you about a common pitfall."
   ]
  },
  {
   "cell_type": "markdown",
   "metadata": {
    "id": "Md9MKVLL2n1M"
   },
   "source": [
    "Or, if you are ready to get started, [click here to read Chapter 1](https://colab.research.google.com/github/AllenDowney/ThinkPython/blob/v3/chapters/chap01.ipynb)."
   ]
  },
  {
   "cell_type": "markdown",
   "metadata": {
    "id": "M9yF11G47x0l",
    "tags": []
   },
   "source": [
    "*Think Python*, 3rd edition.\n",
    "\n",
    "Copyright 2023 [Allen B. Downey](https://allendowney.com)\n",
    "\n",
    "License: [Creative Commons Attribution-NonCommercial-ShareAlike 4.0 International](https://creativecommons.org/licenses/by-nc-sa/4.0/)"
   ]
  },
  {
   "cell_type": "code",
   "execution_count": null,
   "metadata": {
    "id": "Cq6EYo057x0l"
   },
   "outputs": [],
   "source": []
  }
 ],
 "metadata": {
  "celltoolbar": "Tags",
  "colab": {
   "provenance": []
  },
  "kernelspec": {
   "display_name": "Python 3 (ipykernel)",
   "language": "python",
   "name": "python3"
  },
  "language_info": {
   "codemirror_mode": {
    "name": "ipython",
    "version": 3
   },
   "file_extension": ".py",
   "mimetype": "text/x-python",
   "name": "python",
   "nbconvert_exporter": "python",
   "pygments_lexer": "ipython3",
   "version": "3.11.6"
  }
 },
 "nbformat": 4,
 "nbformat_minor": 4
}
